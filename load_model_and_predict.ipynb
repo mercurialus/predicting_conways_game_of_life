{
 "cells": [
  {
   "cell_type": "code",
   "execution_count": 1,
   "id": "9d51cf05",
   "metadata": {},
   "outputs": [],
   "source": [
    "import torch\n",
    "import matplotlib.pyplot as plt\n",
    "from matplotlib.colors import ListedColormap\n",
    "import torch\n",
    "from torch.utils.data import TensorDataset, DataLoader\n",
    "from tqdm import tqdm\n",
    "import numpy as np\n",
    "import os\n",
    "import random\n",
    "from model import UNetSmall\n",
    "from load_dataset import PATH_TEST, PATH_TEST_T32, load_all_pairs\n",
    "from ipywidgets import interact"
   ]
  },
  {
   "cell_type": "code",
   "execution_count": 10,
   "id": "e0889ac3",
   "metadata": {},
   "outputs": [
    {
     "name": "stdout",
     "output_type": "stream",
     "text": [
      "Model & dataset loaded\n"
     ]
    }
   ],
   "source": [
    "unet_model = UNetSmall()\n",
    "unet_model.load_state_dict(torch.load(\"gol_unet_best.pt\"))\n",
    "unet_model.eval()\n",
    "\n",
    "if os.path.exists(\"dataset_test.pt\"):\n",
    "    X, Y = torch.load(\"dataset_test.pt\")\n",
    "else:\n",
    "    X, Y = load_all_pairs(PATH_TEST)\n",
    "    X = torch.tensor(X[:, None, :, :].astype(\"float32\"))\n",
    "    Y = torch.tensor(Y[:, None, :, :].astype(\"float32\"))\n",
    "    torch.save((X, Y), \"dataset_test.pt\")\n",
    "test_ds = TensorDataset(X, Y)\n",
    "print(\"Model & dataset loaded\")"
   ]
  },
  {
   "cell_type": "code",
   "execution_count": 11,
   "id": "e47c39b4",
   "metadata": {},
   "outputs": [
    {
     "data": {
      "application/vnd.jupyter.widget-view+json": {
       "model_id": "3894d3682a784fb1ab0bbdd1d8af61dc",
       "version_major": 2,
       "version_minor": 0
      },
      "text/plain": [
       "interactive(children=(IntSlider(value=4, description='n', max=9), Output()), _dom_classes=('widget-interact',)…"
      ]
     },
     "metadata": {},
     "output_type": "display_data"
    },
    {
     "data": {
      "text/plain": [
       "<function __main__.plot_selected_sample(n)>"
      ]
     },
     "execution_count": 11,
     "metadata": {},
     "output_type": "execute_result"
    }
   ],
   "source": [
    "N = 10\n",
    "random_indices = random.sample(range(len(test_ds)), N)\n",
    "\n",
    "\n",
    "def plot_selected_sample(n):\n",
    "    i = random_indices[n]\n",
    "    x_frame, y_true = test_ds[i]\n",
    "\n",
    "    img_size = int(x_frame.numel() ** 0.5)\n",
    "    x_img = x_frame.view(1, 1, img_size, img_size)\n",
    "\n",
    "    device = next(unet_model.parameters()).device\n",
    "    x_img = x_img.to(device)\n",
    "\n",
    "    with torch.no_grad():\n",
    "        y_pred_logits = unet_model(x_img)\n",
    "        y_pred_prob = torch.sigmoid(y_pred_logits)\n",
    "        y_pred_binary = (y_pred_prob > 0.5).float()\n",
    "\n",
    "    x_plot = x_img.squeeze().cpu()\n",
    "    y_pred_plot = y_pred_binary.squeeze().cpu()\n",
    "    y_true_plot = y_true.view(img_size, img_size).cpu()\n",
    "\n",
    "    tp = (y_pred_plot == 1) & (y_true_plot == 1)\n",
    "    fp = (y_pred_plot == 1) & (y_true_plot == 0)\n",
    "    fn = (y_pred_plot == 0) & (y_true_plot == 1)\n",
    "\n",
    "    rgb = torch.zeros(3, img_size, img_size)\n",
    "    rgb[1][tp] = 1.0\n",
    "    rgb[0][fp] = 1.0\n",
    "    rgb[2][fn] = 1.0\n",
    "    error_map = rgb.permute(1, 2, 0).numpy()\n",
    "\n",
    "    pixel_acc = (y_pred_plot == y_true_plot).float().mean().item()\n",
    "    iou = tp.sum() / (tp.sum() + fp.sum() + fn.sum() + 1e-9)\n",
    "\n",
    "    fig, axes = plt.subplots(3, 2, figsize=(16, 16))\n",
    "    axes[0, 0].imshow(x_plot, cmap=\"gray\")\n",
    "    axes[0, 0].set_title(f\"Input Frame t (sample {i})\")\n",
    "    axes[0, 0].axis(\"off\")\n",
    "\n",
    "    axes[0, 1].imshow(y_pred_plot, cmap=\"gray\")\n",
    "    axes[0, 1].set_title(\"Predicted Frame t+1\")\n",
    "    axes[0, 1].axis(\"off\")\n",
    "\n",
    "    axes[1, 0].imshow(y_true_plot, cmap=\"gray\")\n",
    "    axes[1, 0].set_title(\"True Frame t+1\")\n",
    "    axes[1, 0].axis(\"off\")\n",
    "\n",
    "    axes[1, 1].imshow(error_map)\n",
    "    axes[1, 1].set_title(\"Error Map\\nG=TP  R=FP  B=FN\")\n",
    "    axes[1, 1].axis(\"off\")\n",
    "\n",
    "    red_cmap = ListedColormap([\"black\", \"red\"])\n",
    "    blue_cmap = ListedColormap([\"black\", \"blue\"])\n",
    "\n",
    "    axes[2, 0].imshow(fp, cmap=red_cmap)\n",
    "    axes[2, 0].set_title(\"False Positives\")\n",
    "    axes[2, 0].axis(\"off\")\n",
    "\n",
    "    axes[2, 1].imshow(fn, cmap=blue_cmap)\n",
    "    axes[2, 1].set_title(\"False Negatives\")\n",
    "    axes[2, 1].axis(\"off\")\n",
    "\n",
    "    plt.tight_layout()\n",
    "    plt.show()\n",
    "\n",
    "    print(f\"Pixel Accuracy: {pixel_acc:.4f}\")\n",
    "\n",
    "    print(f\"IoU (Intersection over Union): {iou:.4f}\")\n",
    "\n",
    "\n",
    "interact(plot_selected_sample, n=(0, N - 1))"
   ]
  },
  {
   "cell_type": "markdown",
   "id": "8744398c",
   "metadata": {},
   "source": [
    "#### Now lets test the model, when 32 steps are required\n",
    "Simply put, given nth frame, predict (n+32)th frame"
   ]
  }
 ],
 "metadata": {
  "kernelspec": {
   "display_name": "myEnv",
   "language": "python",
   "name": "python3"
  },
  "language_info": {
   "codemirror_mode": {
    "name": "ipython",
    "version": 3
   },
   "file_extension": ".py",
   "mimetype": "text/x-python",
   "name": "python",
   "nbconvert_exporter": "python",
   "pygments_lexer": "ipython3",
   "version": "3.11.2"
  }
 },
 "nbformat": 4,
 "nbformat_minor": 5
}
